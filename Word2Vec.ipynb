{
 "cells": [
  {
   "cell_type": "code",
   "execution_count": 3,
   "metadata": {},
   "outputs": [],
   "source": [
    "#!pip install gensim"
   ]
  },
  {
   "cell_type": "code",
   "execution_count": 47,
   "metadata": {},
   "outputs": [],
   "source": [
    "paragraph = \"\"\"I have three visions for India. In 3000 years of our history, people from all over \n",
    "               the world have come and invaded us, captured our lands, conquered our minds. \n",
    "               From Alexander onwards, the Greeks, the Turks, the Moguls, the Portuguese, the British,\n",
    "               the French, the Dutch, all of them came and looted us, took over what was ours. \n",
    "               Yet we have not done this to any other nation. We have not conquered anyone. \n",
    "               We have not grabbed their land, their culture, \n",
    "               their history and tried to enforce our way of life on them. \n",
    "               Why? Because we respect the freedom of others.That is why my \n",
    "               first vision is that of freedom. I believe that India got its first vision of \n",
    "               this in 1857, when we started the War of Independence. It is this freedom that\n",
    "               we must protect and nurture and build on. If we are not free, no one will respect us.\n",
    "               My second vision for India’s development. For fifty years we have been a developing nation.\n",
    "               It is time we see ourselves as a developed nation. We are among the top 5 nations of the world\n",
    "               in terms of GDP. We have a 10 percent growth rate in most areas. Our poverty levels are falling.\n",
    "               Our achievements are being globally recognised today. Yet we lack the self-confidence to\n",
    "               see ourselves as a developed nation, self-reliant and self-assured. Isn’t this incorrect?\n",
    "               I have a third vision. India must stand up to the world. Because I believe that unless India \n",
    "               stands up to the world, no one will respect us. Only strength respects strength. We must be \n",
    "               strong not only as a military power but also as an economic power. Both must go hand-in-hand. \n",
    "               My good fortune was to have worked with three great minds. Dr. Vikram Sarabhai of the Dept. of \n",
    "               space, Professor Satish Dhawan, who succeeded him and Dr. Brahm Prakash, father of nuclear material.\n",
    "               I was lucky to have worked with all three of them closely and consider this the great opportunity of my life. \n",
    "               I see four milestones in my career\"\"\""
   ]
  },
  {
   "cell_type": "code",
   "execution_count": 48,
   "metadata": {},
   "outputs": [],
   "source": [
    "import nltk\n",
    "from gensim.models import Word2Vec\n",
    "from nltk.corpus import stopwords\n",
    "import re"
   ]
  },
  {
   "cell_type": "code",
   "execution_count": 49,
   "metadata": {},
   "outputs": [
    {
     "name": "stdout",
     "output_type": "stream",
     "text": [
      "I have three visions for India. In 3000 years of our history, people from all over \n",
      "the world have come and invaded us, captured our lands, conquered our minds. \n",
      "From Alexander onwards, the Greeks, the Turks, the Moguls, the Portuguese, the British,\n",
      "the French, the Dutch, all of them came and looted us, took over what was ours. \n",
      "Yet we have not done this to any other nation. We have not conquered anyone. \n",
      "We have not grabbed their land, their culture, \n",
      "their history and tried to enforce our way of life on them. \n",
      "Why? Because we respect the freedom of others.That is why my \n",
      "first vision is that of freedom. I believe that India got its first vision of \n",
      "this in 1857, when we started the War of Independence. It is this freedom that\n",
      "we must protect and nurture and build on. If we are not free, no one will respect us.\n",
      "My second vision for India’s development. For fifty years we have been a developing nation.\n",
      "It is time we see ourselves as a developed nation. We are among the top 5 nations of the world\n",
      "in terms of GDP. We have a 10 percent growth rate in most areas. Our poverty levels are falling.\n",
      "Our achievements are being globally recognised today. Yet we lack the self-confidence to\n",
      "see ourselves as a developed nation, self-reliant and self-assured. Isn’t this incorrect?\n",
      "I have a third vision. India must stand up to the world. Because I believe that unless India \n",
      "stands up to the world, no one will respect us. Only strength respects strength. We must be \n",
      "strong not only as a military power but also as an economic power. Both must go hand-in-hand. \n",
      "My good fortune was to have worked with three great minds. Dr. Vikram Sarabhai of the Dept. of \n",
      "space, Professor Satish Dhawan, who succeeded him and Dr. Brahm Prakash, father of nuclear material.\n",
      "I was lucky to have worked with all three of them closely and consider this the great opportunity of my life. \n",
      "I see four milestones in my career\n"
     ]
    }
   ],
   "source": [
    "text = re.sub('               ','', paragraph)\n",
    "print(text)"
   ]
  },
  {
   "cell_type": "code",
   "execution_count": 50,
   "metadata": {},
   "outputs": [
    {
     "data": {
      "text/plain": [
       "'i have three visions for india. in      years of o'"
      ]
     },
     "execution_count": 50,
     "metadata": {},
     "output_type": "execute_result"
    }
   ],
   "source": [
    "#preprocessing the data\n",
    "\n",
    "text = re.sub(r'\\[[0-9]*\\]', ' ', text)\n",
    "text = re.sub(r'\\s+',' ', text)\n",
    "text = text.lower()\n",
    "text = re.sub(r'\\d',' ', text)\n",
    "text[:50]\n"
   ]
  },
  {
   "cell_type": "code",
   "execution_count": 51,
   "metadata": {},
   "outputs": [
    {
     "data": {
      "text/plain": [
       "31"
      ]
     },
     "execution_count": 51,
     "metadata": {},
     "output_type": "execute_result"
    }
   ],
   "source": [
    "sentences = nltk.sent_tokenize(text)\n",
    "len(sentences)"
   ]
  },
  {
   "cell_type": "code",
   "execution_count": 52,
   "metadata": {},
   "outputs": [],
   "source": [
    "sentences = [nltk.word_tokenize(sentence) for sentence in sentences]\n",
    "len(sentences)\n",
    "\n",
    "for i,sentence in enumerate(sentences):\n",
    "    sentences[i] = [word for word in sentence if word not in stopwords.words('english')]"
   ]
  },
  {
   "cell_type": "code",
   "execution_count": 53,
   "metadata": {},
   "outputs": [],
   "source": [
    "model = Word2Vec(sentences, min_count = 1)\n",
    "words = model.wv.vocab"
   ]
  },
  {
   "cell_type": "code",
   "execution_count": 54,
   "metadata": {},
   "outputs": [
    {
     "data": {
      "text/plain": [
       "[('fortune', 0.3271369934082031),\n",
       " ('way', 0.23714596033096313),\n",
       " ('satish', 0.22239381074905396),\n",
       " ('?', 0.1972741186618805),\n",
       " ('self-reliant', 0.17404326796531677),\n",
       " ('looted', 0.1697041541337967),\n",
       " ('lack', 0.14596208930015564),\n",
       " ('incorrect', 0.14569899439811707),\n",
       " ('closely', 0.14492544531822205),\n",
       " ('respect', 0.1368899941444397)]"
      ]
     },
     "execution_count": 54,
     "metadata": {},
     "output_type": "execute_result"
    }
   ],
   "source": [
    "model.wv.most_similar('milestones')"
   ]
  },
  {
   "cell_type": "code",
   "execution_count": 56,
   "metadata": {},
   "outputs": [],
   "source": [
    "#sentences"
   ]
  },
  {
   "cell_type": "code",
   "execution_count": 57,
   "metadata": {},
   "outputs": [
    {
     "data": {
      "text/plain": [
       "array([ 1.6533383e-04, -3.1540717e-03, -1.6290153e-03, -8.1997021e-04,\n",
       "       -1.1792163e-03, -2.4273591e-03,  2.8222874e-03, -2.8098861e-03,\n",
       "        1.3525075e-05, -6.9427966e-05, -4.3368191e-03,  2.9289317e-03,\n",
       "       -9.5856667e-04, -4.7976221e-04, -5.9999846e-04,  2.2566712e-03,\n",
       "        3.6262962e-05, -3.8435291e-03,  2.2777762e-04, -1.4953212e-04,\n",
       "       -4.1162092e-03,  4.6000187e-03,  7.4895081e-04,  1.3109102e-03,\n",
       "       -2.3000452e-03, -4.8237112e-03,  2.0417166e-03,  1.1759341e-03,\n",
       "       -4.4690664e-03,  2.6345791e-03, -4.4982843e-03, -3.1799758e-03,\n",
       "       -7.6760422e-04, -6.3406758e-04,  4.4925055e-03, -1.0053908e-03,\n",
       "        4.4653555e-03,  1.5984657e-03, -1.0563373e-04,  1.2909796e-03,\n",
       "        2.0243579e-03,  2.1471209e-03,  3.4254551e-04,  2.0400361e-04,\n",
       "        1.1581452e-04, -3.7638284e-03, -1.4982409e-03, -4.4999160e-03,\n",
       "        4.8910058e-03,  2.4215602e-03,  2.8538054e-03,  3.4835695e-03,\n",
       "        3.0042410e-03, -4.0470287e-03, -4.9545751e-03, -1.2773735e-03,\n",
       "        2.5182054e-03, -4.5196498e-03,  8.6053647e-04,  1.1853508e-04,\n",
       "        2.2843597e-03, -1.3179092e-03, -1.7627015e-03,  4.6665901e-03,\n",
       "        3.8762924e-03, -4.4626831e-03,  2.7086721e-03, -2.3135012e-03,\n",
       "        4.1383579e-03,  4.3845894e-03, -4.5609726e-03, -2.1773232e-03,\n",
       "       -3.1072972e-03,  7.3731394e-04,  3.6822571e-03, -1.5093725e-03,\n",
       "       -4.9467903e-04,  4.2646327e-03,  6.8038964e-04,  1.7619664e-03,\n",
       "        3.0802821e-03, -2.8626346e-03, -2.3268149e-03, -3.6264127e-03,\n",
       "       -2.1295259e-03, -3.9637117e-03, -7.1176718e-04,  3.2268835e-03,\n",
       "        3.8287526e-03, -3.6145360e-03,  1.9143693e-03,  4.9471455e-03,\n",
       "       -4.6010292e-03,  2.5717032e-03, -3.0392371e-04,  3.6195284e-03,\n",
       "       -4.4828807e-03, -4.8324182e-03, -4.3257391e-03,  1.1354213e-03],\n",
       "      dtype=float32)"
      ]
     },
     "execution_count": 57,
     "metadata": {},
     "output_type": "execute_result"
    }
   ],
   "source": [
    "model.wv['war']"
   ]
  },
  {
   "cell_type": "code",
   "execution_count": null,
   "metadata": {},
   "outputs": [],
   "source": []
  }
 ],
 "metadata": {
  "kernelspec": {
   "display_name": "Python 3",
   "language": "python",
   "name": "python3"
  },
  "language_info": {
   "codemirror_mode": {
    "name": "ipython",
    "version": 3
   },
   "file_extension": ".py",
   "mimetype": "text/x-python",
   "name": "python",
   "nbconvert_exporter": "python",
   "pygments_lexer": "ipython3",
   "version": "3.8.5"
  }
 },
 "nbformat": 4,
 "nbformat_minor": 4
}
