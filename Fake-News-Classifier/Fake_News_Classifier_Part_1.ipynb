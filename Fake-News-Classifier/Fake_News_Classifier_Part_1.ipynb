{
 "cells": [
  {
   "cell_type": "markdown",
   "metadata": {},
   "source": [
    "In the first part of the project, we will be using the Bag-of-words model (Countvectorizer) in the data preprocessing phase. We'll also be using the news headlines i.e. title to predict the label in the first part of the project.\n",
    "Dataset: https://www.kaggle.com/c/fake-news/data#"
   ]
  },
  {
   "cell_type": "code",
   "execution_count": 72,
   "metadata": {},
   "outputs": [],
   "source": [
    "import pandas as pd\n",
    "import string\n",
    "from nltk.tokenize import word_tokenize\n",
    "from nltk.corpus import stopwords\n",
    "from nltk.stem.porter import PorterStemmer\n",
    "from sklearn.naive_bayes import MultinomialNB\n",
    "from sklearn import metrics\n",
    "import numpy as np\n",
    "import itertools"
   ]
  },
  {
   "cell_type": "code",
   "execution_count": 73,
   "metadata": {},
   "outputs": [
    {
     "data": {
      "text/html": [
       "<div>\n",
       "<style scoped>\n",
       "    .dataframe tbody tr th:only-of-type {\n",
       "        vertical-align: middle;\n",
       "    }\n",
       "\n",
       "    .dataframe tbody tr th {\n",
       "        vertical-align: top;\n",
       "    }\n",
       "\n",
       "    .dataframe thead th {\n",
       "        text-align: right;\n",
       "    }\n",
       "</style>\n",
       "<table border=\"1\" class=\"dataframe\">\n",
       "  <thead>\n",
       "    <tr style=\"text-align: right;\">\n",
       "      <th></th>\n",
       "      <th>id</th>\n",
       "      <th>title</th>\n",
       "      <th>author</th>\n",
       "      <th>text</th>\n",
       "      <th>label</th>\n",
       "    </tr>\n",
       "  </thead>\n",
       "  <tbody>\n",
       "    <tr>\n",
       "      <th>0</th>\n",
       "      <td>0</td>\n",
       "      <td>House Dem Aide: We Didn’t Even See Comey’s Let...</td>\n",
       "      <td>Darrell Lucus</td>\n",
       "      <td>House Dem Aide: We Didn’t Even See Comey’s Let...</td>\n",
       "      <td>1</td>\n",
       "    </tr>\n",
       "    <tr>\n",
       "      <th>1</th>\n",
       "      <td>1</td>\n",
       "      <td>FLYNN: Hillary Clinton, Big Woman on Campus - ...</td>\n",
       "      <td>Daniel J. Flynn</td>\n",
       "      <td>Ever get the feeling your life circles the rou...</td>\n",
       "      <td>0</td>\n",
       "    </tr>\n",
       "    <tr>\n",
       "      <th>2</th>\n",
       "      <td>2</td>\n",
       "      <td>Why the Truth Might Get You Fired</td>\n",
       "      <td>Consortiumnews.com</td>\n",
       "      <td>Why the Truth Might Get You Fired October 29, ...</td>\n",
       "      <td>1</td>\n",
       "    </tr>\n",
       "    <tr>\n",
       "      <th>3</th>\n",
       "      <td>3</td>\n",
       "      <td>15 Civilians Killed In Single US Airstrike Hav...</td>\n",
       "      <td>Jessica Purkiss</td>\n",
       "      <td>Videos 15 Civilians Killed In Single US Airstr...</td>\n",
       "      <td>1</td>\n",
       "    </tr>\n",
       "    <tr>\n",
       "      <th>4</th>\n",
       "      <td>4</td>\n",
       "      <td>Iranian woman jailed for fictional unpublished...</td>\n",
       "      <td>Howard Portnoy</td>\n",
       "      <td>Print \\nAn Iranian woman has been sentenced to...</td>\n",
       "      <td>1</td>\n",
       "    </tr>\n",
       "  </tbody>\n",
       "</table>\n",
       "</div>"
      ],
      "text/plain": [
       "   id                                              title              author  \\\n",
       "0   0  House Dem Aide: We Didn’t Even See Comey’s Let...       Darrell Lucus   \n",
       "1   1  FLYNN: Hillary Clinton, Big Woman on Campus - ...     Daniel J. Flynn   \n",
       "2   2                  Why the Truth Might Get You Fired  Consortiumnews.com   \n",
       "3   3  15 Civilians Killed In Single US Airstrike Hav...     Jessica Purkiss   \n",
       "4   4  Iranian woman jailed for fictional unpublished...      Howard Portnoy   \n",
       "\n",
       "                                                text  label  \n",
       "0  House Dem Aide: We Didn’t Even See Comey’s Let...      1  \n",
       "1  Ever get the feeling your life circles the rou...      0  \n",
       "2  Why the Truth Might Get You Fired October 29, ...      1  \n",
       "3  Videos 15 Civilians Killed In Single US Airstr...      1  \n",
       "4  Print \\nAn Iranian woman has been sentenced to...      1  "
      ]
     },
     "execution_count": 73,
     "metadata": {},
     "output_type": "execute_result"
    }
   ],
   "source": [
    "df = pd.read_csv('fake-news/train.csv')\n",
    "df.head()"
   ]
  },
  {
   "cell_type": "code",
   "execution_count": 74,
   "metadata": {},
   "outputs": [],
   "source": [
    "df['title'] = df['title'].apply(lambda x: str(x).lower())\n",
    "table = str.maketrans('', '', string.punctuation)\n",
    "ps = PorterStemmer()\n",
    "df['title'] = df['title'].apply(lambda s: ' '.join([ps.stem(word.translate(table)) for word in word_tokenize(str(s)) if word.isalpha() and word not in set(stopwords.words('english'))]))"
   ]
  },
  {
   "cell_type": "code",
   "execution_count": 75,
   "metadata": {},
   "outputs": [
    {
     "data": {
      "text/plain": [
       "id       0\n",
       "title    0\n",
       "text     0\n",
       "label    0\n",
       "dtype: int64"
      ]
     },
     "execution_count": 75,
     "metadata": {},
     "output_type": "execute_result"
    }
   ],
   "source": [
    "df.drop(['author'],axis = 1, inplace = True)\n",
    "df.dropna(inplace = True)\n",
    "df.isnull().sum()"
   ]
  },
  {
   "cell_type": "code",
   "execution_count": 76,
   "metadata": {},
   "outputs": [],
   "source": [
    "from sklearn.feature_extraction.text import CountVectorizer\n",
    "cv = CountVectorizer(max_features = 5000, ngram_range = (1,3))\n",
    "X = pd.DataFrame(cv.fit_transform(df['title']).toarray())\n",
    "X.columns = cv.get_feature_names()\n",
    "y=df['label']"
   ]
  },
  {
   "cell_type": "code",
   "execution_count": 77,
   "metadata": {},
   "outputs": [
    {
     "data": {
      "text/plain": [
       "(20761, 5000)"
      ]
     },
     "execution_count": 77,
     "metadata": {},
     "output_type": "execute_result"
    }
   ],
   "source": [
    "X.shape"
   ]
  },
  {
   "cell_type": "code",
   "execution_count": 78,
   "metadata": {},
   "outputs": [
    {
     "data": {
      "text/plain": [
       "(20761,)"
      ]
     },
     "execution_count": 78,
     "metadata": {},
     "output_type": "execute_result"
    }
   ],
   "source": [
    "y.shape"
   ]
  },
  {
   "cell_type": "code",
   "execution_count": 79,
   "metadata": {},
   "outputs": [
    {
     "data": {
      "text/html": [
       "<div>\n",
       "<style scoped>\n",
       "    .dataframe tbody tr th:only-of-type {\n",
       "        vertical-align: middle;\n",
       "    }\n",
       "\n",
       "    .dataframe tbody tr th {\n",
       "        vertical-align: top;\n",
       "    }\n",
       "\n",
       "    .dataframe thead th {\n",
       "        text-align: right;\n",
       "    }\n",
       "</style>\n",
       "<table border=\"1\" class=\"dataframe\">\n",
       "  <thead>\n",
       "    <tr style=\"text-align: right;\">\n",
       "      <th></th>\n",
       "      <th>abandon</th>\n",
       "      <th>abc</th>\n",
       "      <th>abc news</th>\n",
       "      <th>abduct</th>\n",
       "      <th>abe</th>\n",
       "      <th>abedin</th>\n",
       "      <th>abl</th>\n",
       "      <th>abort</th>\n",
       "      <th>abroad</th>\n",
       "      <th>absolut</th>\n",
       "      <th>...</th>\n",
       "      <th>не</th>\n",
       "      <th>новое</th>\n",
       "      <th>новое восточное</th>\n",
       "      <th>новое восточное обозрение</th>\n",
       "      <th>обозрение</th>\n",
       "      <th>по</th>\n",
       "      <th>против</th>\n",
       "      <th>путин</th>\n",
       "      <th>россии</th>\n",
       "      <th>сша</th>\n",
       "    </tr>\n",
       "  </thead>\n",
       "  <tbody>\n",
       "    <tr>\n",
       "      <th>0</th>\n",
       "      <td>0</td>\n",
       "      <td>0</td>\n",
       "      <td>0</td>\n",
       "      <td>0</td>\n",
       "      <td>0</td>\n",
       "      <td>0</td>\n",
       "      <td>0</td>\n",
       "      <td>0</td>\n",
       "      <td>0</td>\n",
       "      <td>0</td>\n",
       "      <td>...</td>\n",
       "      <td>0</td>\n",
       "      <td>0</td>\n",
       "      <td>0</td>\n",
       "      <td>0</td>\n",
       "      <td>0</td>\n",
       "      <td>0</td>\n",
       "      <td>0</td>\n",
       "      <td>0</td>\n",
       "      <td>0</td>\n",
       "      <td>0</td>\n",
       "    </tr>\n",
       "    <tr>\n",
       "      <th>1</th>\n",
       "      <td>0</td>\n",
       "      <td>0</td>\n",
       "      <td>0</td>\n",
       "      <td>0</td>\n",
       "      <td>0</td>\n",
       "      <td>0</td>\n",
       "      <td>0</td>\n",
       "      <td>0</td>\n",
       "      <td>0</td>\n",
       "      <td>0</td>\n",
       "      <td>...</td>\n",
       "      <td>0</td>\n",
       "      <td>0</td>\n",
       "      <td>0</td>\n",
       "      <td>0</td>\n",
       "      <td>0</td>\n",
       "      <td>0</td>\n",
       "      <td>0</td>\n",
       "      <td>0</td>\n",
       "      <td>0</td>\n",
       "      <td>0</td>\n",
       "    </tr>\n",
       "    <tr>\n",
       "      <th>2</th>\n",
       "      <td>0</td>\n",
       "      <td>0</td>\n",
       "      <td>0</td>\n",
       "      <td>0</td>\n",
       "      <td>0</td>\n",
       "      <td>0</td>\n",
       "      <td>0</td>\n",
       "      <td>0</td>\n",
       "      <td>0</td>\n",
       "      <td>0</td>\n",
       "      <td>...</td>\n",
       "      <td>0</td>\n",
       "      <td>0</td>\n",
       "      <td>0</td>\n",
       "      <td>0</td>\n",
       "      <td>0</td>\n",
       "      <td>0</td>\n",
       "      <td>0</td>\n",
       "      <td>0</td>\n",
       "      <td>0</td>\n",
       "      <td>0</td>\n",
       "    </tr>\n",
       "    <tr>\n",
       "      <th>3</th>\n",
       "      <td>0</td>\n",
       "      <td>0</td>\n",
       "      <td>0</td>\n",
       "      <td>0</td>\n",
       "      <td>0</td>\n",
       "      <td>0</td>\n",
       "      <td>0</td>\n",
       "      <td>0</td>\n",
       "      <td>0</td>\n",
       "      <td>0</td>\n",
       "      <td>...</td>\n",
       "      <td>0</td>\n",
       "      <td>0</td>\n",
       "      <td>0</td>\n",
       "      <td>0</td>\n",
       "      <td>0</td>\n",
       "      <td>0</td>\n",
       "      <td>0</td>\n",
       "      <td>0</td>\n",
       "      <td>0</td>\n",
       "      <td>0</td>\n",
       "    </tr>\n",
       "    <tr>\n",
       "      <th>4</th>\n",
       "      <td>0</td>\n",
       "      <td>0</td>\n",
       "      <td>0</td>\n",
       "      <td>0</td>\n",
       "      <td>0</td>\n",
       "      <td>0</td>\n",
       "      <td>0</td>\n",
       "      <td>0</td>\n",
       "      <td>0</td>\n",
       "      <td>0</td>\n",
       "      <td>...</td>\n",
       "      <td>0</td>\n",
       "      <td>0</td>\n",
       "      <td>0</td>\n",
       "      <td>0</td>\n",
       "      <td>0</td>\n",
       "      <td>0</td>\n",
       "      <td>0</td>\n",
       "      <td>0</td>\n",
       "      <td>0</td>\n",
       "      <td>0</td>\n",
       "    </tr>\n",
       "  </tbody>\n",
       "</table>\n",
       "<p>5 rows × 5000 columns</p>\n",
       "</div>"
      ],
      "text/plain": [
       "   abandon  abc  abc news  abduct  abe  abedin  abl  abort  abroad  absolut  \\\n",
       "0        0    0         0       0    0       0    0      0       0        0   \n",
       "1        0    0         0       0    0       0    0      0       0        0   \n",
       "2        0    0         0       0    0       0    0      0       0        0   \n",
       "3        0    0         0       0    0       0    0      0       0        0   \n",
       "4        0    0         0       0    0       0    0      0       0        0   \n",
       "\n",
       "   ...  не  новое  новое восточное  новое восточное обозрение  обозрение  по  \\\n",
       "0  ...   0      0                0                          0          0   0   \n",
       "1  ...   0      0                0                          0          0   0   \n",
       "2  ...   0      0                0                          0          0   0   \n",
       "3  ...   0      0                0                          0          0   0   \n",
       "4  ...   0      0                0                          0          0   0   \n",
       "\n",
       "   против  путин  россии  сша  \n",
       "0       0      0       0    0  \n",
       "1       0      0       0    0  \n",
       "2       0      0       0    0  \n",
       "3       0      0       0    0  \n",
       "4       0      0       0    0  \n",
       "\n",
       "[5 rows x 5000 columns]"
      ]
     },
     "execution_count": 79,
     "metadata": {},
     "output_type": "execute_result"
    }
   ],
   "source": [
    "X.head()"
   ]
  },
  {
   "cell_type": "code",
   "execution_count": 80,
   "metadata": {},
   "outputs": [],
   "source": [
    "from sklearn.model_selection import train_test_split\n",
    "X_train, X_test, y_train, y_test = train_test_split(X,y,test_size = 0.33, random_state = 0)"
   ]
  },
  {
   "cell_type": "code",
   "execution_count": 81,
   "metadata": {},
   "outputs": [],
   "source": [
    "import matplotlib.pyplot as plt\n",
    "def plot_confusion_matrix(cm, classes,\n",
    "                          normalize=False,\n",
    "                          title='Confusion matrix',\n",
    "                          cmap=plt.cm.Blues):\n",
    "    \"\"\"\n",
    "    See full source and example: \n",
    "    http://scikit-learn.org/stable/auto_examples/model_selection/plot_confusion_matrix.html\n",
    "    \n",
    "    This function prints and plots the confusion matrix.\n",
    "    Normalization can be applied by setting `normalize=True`.\n",
    "    \"\"\"\n",
    "    plt.imshow(cm, interpolation='nearest', cmap=cmap)\n",
    "    plt.title(title)\n",
    "    plt.colorbar()\n",
    "    tick_marks = np.arange(len(classes))\n",
    "    plt.xticks(tick_marks, classes, rotation=45)\n",
    "    plt.yticks(tick_marks, classes)\n",
    "\n",
    "    if normalize:\n",
    "        cm = cm.astype('float') / cm.sum(axis=1)[:, np.newaxis]\n",
    "        print(\"Normalized confusion matrix\")\n",
    "    else:\n",
    "        print('Confusion matrix, without normalization')\n",
    "\n",
    "    thresh = cm.max() / 2.\n",
    "    for i, j in itertools.product(range(cm.shape[0]), range(cm.shape[1])):\n",
    "        plt.text(j, i, cm[i, j],\n",
    "                 horizontalalignment=\"center\",\n",
    "                 color=\"white\" if cm[i, j] > thresh else \"black\")\n",
    "\n",
    "    plt.tight_layout()\n",
    "    plt.ylabel('True label')\n",
    "    plt.xlabel('Predicted label')"
   ]
  },
  {
   "cell_type": "markdown",
   "metadata": {},
   "source": [
    "#### MultinomialNB Algorithm"
   ]
  },
  {
   "cell_type": "code",
   "execution_count": 82,
   "metadata": {},
   "outputs": [
    {
     "name": "stdout",
     "output_type": "stream",
     "text": [
      "accuracy: 0.911\n",
      "Confusion matrix, without normalization\n"
     ]
    },
    {
     "data": {
      "image/png": "[encoded data removed]",
      "text/plain": [
       "<Figure size 432x288 with 2 Axes>"
      ]
     },
     "metadata": {
      "needs_background": "light"
     },
     "output_type": "display_data"
    }
   ],
   "source": [
    "classifier = MultinomialNB()\n",
    "classifier.fit(X_train, y_train)\n",
    "y_pred = classifier.predict(X_test)\n",
    "score = metrics.accuracy_score(y_test, y_pred)\n",
    "print(\"accuracy: %0.3f\" % score)\n",
    "cm = metrics.confusion_matrix(y_test, y_pred)\n",
    "plot_confusion_matrix(cm, classes = ['FAKE','REAL'])"
   ]
  },
  {
   "cell_type": "markdown",
   "metadata": {},
   "source": [
    "#### Passive Aggresive Classifier Algorithm"
   ]
  },
  {
   "cell_type": "code",
   "execution_count": 85,
   "metadata": {},
   "outputs": [
    {
     "name": "stdout",
     "output_type": "stream",
     "text": [
      "accuracy: 0.921\n",
      "Confusion matrix, without normalization\n"
     ]
    },
    {
     "data": {
      "image/png": "[encoded data removed]",
      "text/plain": [
       "<Figure size 432x288 with 2 Axes>"
      ]
     },
     "metadata": {
      "needs_background": "light"
     },
     "output_type": "display_data"
    }
   ],
   "source": [
    "from sklearn.linear_model import PassiveAggressiveClassifier\n",
    "linear_clf = PassiveAggressiveClassifier()\n",
    "linear_clf.fit(X_train, y_train)\n",
    "y_predict = linear_clf.predict(X_test)\n",
    "score = metrics.accuracy_score(y_test, y_predict)\n",
    "cm = metrics.confusion_matrix(y_test, y_predict)\n",
    "print(\"accuracy: %0.3f\" % score)\n",
    "plot_confusion_matrix(cm, classes = ['FAKE','REAL'])"
   ]
  },
  {
   "cell_type": "markdown",
   "metadata": {},
   "source": [
    "#### Multinomial Classifier with Hyperparameter"
   ]
  },
  {
   "cell_type": "code",
   "execution_count": 87,
   "metadata": {},
   "outputs": [
    {
     "name": "stderr",
     "output_type": "stream",
     "text": [
      "/home/rishabhjain/anaconda3/lib/python3.8/site-packages/sklearn/naive_bayes.py:511: UserWarning: alpha too small will result in numeric errors, setting alpha = 1.0e-10\n",
      "  warnings.warn('alpha too small will result in numeric errors, '\n"
     ]
    },
    {
     "name": "stdout",
     "output_type": "stream",
     "text": [
      "Alpha: 0.0 Score: 0.8968184471687098\n",
      "Alpha: 0.1 Score: 0.9108289550496206\n",
      "Alpha: 0.2 Score: 0.9112667834208991\n",
      "Alpha: 0.30000000000000004 Score: 0.9118505545826037\n",
      "Alpha: 0.4 Score: 0.9125802685347344\n",
      "Alpha: 0.5 Score: 0.9124343257443083\n",
      "Alpha: 0.6000000000000001 Score: 0.9127262113251605\n",
      "Alpha: 0.7000000000000001 Score: 0.9118505545826037\n",
      "Alpha: 0.8 Score: 0.9109748978400467\n",
      "Alpha: 0.9 Score: 0.9105370694687682\n"
     ]
    }
   ],
   "source": [
    "classifier = MultinomialNB(alpha = 0.1)\n",
    "scores = []\n",
    "for alpha in np.arange(0,1,0.1):\n",
    "    sub_classifier = MultinomialNB(alpha = alpha)\n",
    "    sub_classifier.fit(X_train, y_train)\n",
    "    y_predict = sub_classifier.predict(X_test)\n",
    "    score = metrics.accuracy_score(y_test, y_predict)\n",
    "    scores.append(score)\n",
    "    if score == max(scores):\n",
    "        classifier = sub_classifier\n",
    "    print(f\"Alpha: {alpha} Score: {score}\")"
   ]
  },
  {
   "cell_type": "code",
   "execution_count": 93,
   "metadata": {},
   "outputs": [
    {
     "data": {
      "text/plain": [
       "<bound method BaseEstimator.get_params of MultinomialNB(alpha=0.6000000000000001)>"
      ]
     },
     "execution_count": 93,
     "metadata": {},
     "output_type": "execute_result"
    }
   ],
   "source": [
    "classifier.get_params"
   ]
  },
  {
   "cell_type": "code",
   "execution_count": 94,
   "metadata": {},
   "outputs": [],
   "source": [
    "## Get feature names\n",
    "feature_names = cv.get_feature_names()"
   ]
  },
  {
   "cell_type": "code",
   "execution_count": 100,
   "metadata": {},
   "outputs": [
    {
     "data": {
      "text/plain": [
       "[(-4.009136789007091, 'trump'),\n",
       " (-4.301651008180503, 'hillari'),\n",
       " (-4.353583756922147, 'clinton'),\n",
       " (-4.84520219361212, 'elect'),\n",
       " (-4.898909807127589, 'nan'),\n",
       " (-5.134878284670765, 'new'),\n",
       " (-5.251165433735565, 'video'),\n",
       " (-5.28925076775944, 'us'),\n",
       " (-5.349244765479689, 'fbi'),\n",
       " (-5.3827768257702635, 'war'),\n",
       " (-5.391338521905075, 'news'),\n",
       " (-5.395647016290798, 'comment'),\n",
       " (-5.435282323148194, 'email'),\n",
       " (-5.4488510523542635, 'hillari clinton'),\n",
       " (-5.4534151862472005, 'america'),\n",
       " (-5.495457809542752, 'russia'),\n",
       " (-5.544343398112275, 'world'),\n",
       " (-5.559487554276573, 'obama'),\n",
       " (-5.611691473576395, 'vote'),\n",
       " (-5.73108352003848, 'donald')]"
      ]
     },
     "execution_count": 100,
     "metadata": {},
     "output_type": "execute_result"
    }
   ],
   "source": [
    "### Most real\n",
    "sorted(zip(classifier.coef_[0], feature_names), reverse = True)[:20]"
   ]
  },
  {
   "cell_type": "code",
   "execution_count": 104,
   "metadata": {},
   "outputs": [
    {
     "data": {
      "text/plain": [
       "[(-11.35148438575563, 'abe'),\n",
       " (-11.35148438575563, 'abroad'),\n",
       " (-11.35148438575563, 'abus new'),\n",
       " (-11.35148438575563, 'abus new york'),\n",
       " (-11.35148438575563, 'act new'),\n",
       " (-11.35148438575563, 'act new york'),\n",
       " (-11.35148438575563, 'adopt'),\n",
       " (-11.35148438575563, 'advic'),\n",
       " (-11.35148438575563, 'advis new'),\n",
       " (-11.35148438575563, 'advis new york'),\n",
       " (-11.35148438575563, 'afford care'),\n",
       " (-11.35148438575563, 'afford care act'),\n",
       " (-11.35148438575563, 'aftermath'),\n",
       " (-11.35148438575563, 'age new'),\n",
       " (-11.35148438575563, 'age new york'),\n",
       " (-11.35148438575563, 'agenda breitbart'),\n",
       " (-11.35148438575563, 'aleppo new'),\n",
       " (-11.35148438575563, 'aleppo new york'),\n",
       " (-11.35148438575563, 'ali'),\n",
       " (-11.35148438575563, 'allegedli'),\n",
       " (-11.35148438575563, 'amazon'),\n",
       " (-11.35148438575563, 'america breitbart'),\n",
       " (-11.35148438575563, 'america new'),\n",
       " (-11.35148438575563, 'america new york'),\n",
       " (-11.35148438575563, 'american breitbart'),\n",
       " (-11.35148438575563, 'ami schumer'),\n",
       " (-11.35148438575563, 'amp'),\n",
       " (-11.35148438575563, 'answer new'),\n",
       " (-11.35148438575563, 'applaud'),\n",
       " (-11.35148438575563, 'arson'),\n",
       " (-11.35148438575563, 'assail'),\n",
       " (-11.35148438575563, 'attack breitbart'),\n",
       " (-11.35148438575563, 'attack new'),\n",
       " (-11.35148438575563, 'attack new york'),\n",
       " (-11.35148438575563, 'away new'),\n",
       " (-11.35148438575563, 'away new york'),\n",
       " (-11.35148438575563, 'back new'),\n",
       " (-11.35148438575563, 'back new york'),\n",
       " (-11.35148438575563, 'baltimor'),\n",
       " (-11.35148438575563, 'ban breitbart'),\n",
       " (-11.35148438575563, 'ban new'),\n",
       " (-11.35148438575563, 'ban new york'),\n",
       " (-11.35148438575563, 'bangladesh'),\n",
       " (-11.35148438575563, 'barron trump'),\n",
       " (-11.35148438575563, 'bash'),\n",
       " (-11.35148438575563, 'basic'),\n",
       " (-11.35148438575563, 'baton'),\n",
       " (-11.35148438575563, 'baton roug'),\n",
       " (-11.35148438575563, 'battl new'),\n",
       " (-11.35148438575563, 'battl new york'),\n",
       " (-11.35148438575563, 'beach new'),\n",
       " (-11.35148438575563, 'begin new'),\n",
       " (-11.35148438575563, 'behead photo'),\n",
       " (-11.35148438575563, 'beij'),\n",
       " (-11.35148438575563, 'bet'),\n",
       " (-11.35148438575563, 'betsi devo'),\n",
       " (-11.35148438575563, 'bill breitbart'),\n",
       " (-11.35148438575563, 'bill new'),\n",
       " (-11.35148438575563, 'bill new york'),\n",
       " (-11.35148438575563, 'bill reilli'),\n",
       " (-11.35148438575563, 'billi'),\n",
       " (-11.35148438575563, 'blue state blue'),\n",
       " (-11.35148438575563, 'book new'),\n",
       " (-11.35148438575563, 'book new york'),\n",
       " (-11.35148438575563, 'border patrol agent'),\n",
       " (-11.35148438575563, 'border state'),\n",
       " (-11.35148438575563, 'border wall'),\n",
       " (-11.35148438575563, 'border wall breitbart'),\n",
       " (-11.35148438575563, 'bow'),\n",
       " (-11.35148438575563, 'bowl'),\n",
       " (-11.35148438575563, 'bowl ad'),\n",
       " (-11.35148438575563, 'box offic'),\n",
       " (-11.35148438575563, 'bradi'),\n",
       " (-11.35148438575563, 'brand new'),\n",
       " (-11.35148438575563, 'brand new york'),\n",
       " (-11.35148438575563, 'breitbart news daili'),\n",
       " (-11.35148438575563, 'brian'),\n",
       " (-11.35148438575563, 'brief new'),\n",
       " (-11.35148438575563, 'brief new york'),\n",
       " (-11.35148438575563, 'broadway'),\n",
       " (-11.35148438575563, 'bronx'),\n",
       " (-11.35148438575563, 'brooklyn'),\n",
       " (-11.35148438575563, 'brooklyn new'),\n",
       " (-11.35148438575563, 'brooklyn new york'),\n",
       " (-11.35148438575563, 'caitlyn'),\n",
       " (-11.35148438575563, 'caitlyn jenner'),\n",
       " (-11.35148438575563, 'california today'),\n",
       " (-11.35148438575563, 'campaign breitbart'),\n",
       " (-11.35148438575563, 'campaign new'),\n",
       " (-11.35148438575563, 'campaign new york'),\n",
       " (-11.35148438575563, 'campu'),\n",
       " (-11.35148438575563, 'campu breitbart'),\n",
       " (-11.35148438575563, 'cann'),\n",
       " (-11.35148438575563, 'car new'),\n",
       " (-11.35148438575563, 'car new york'),\n",
       " (-11.35148438575563, 'care act'),\n",
       " (-11.35148438575563, 'care bill'),\n",
       " (-11.35148438575563, 'care breitbart'),\n",
       " (-11.35148438575563, 'carri fisher'),\n",
       " (-11.35148438575563, 'carson'),\n",
       " (-11.35148438575563, 'case new york'),\n",
       " (-11.35148438575563, 'caucu'),\n",
       " (-11.35148438575563, 'championship new'),\n",
       " (-11.35148438575563, 'championship new york'),\n",
       " (-11.35148438575563, 'chang new'),\n",
       " (-11.35148438575563, 'chang new york'),\n",
       " (-11.35148438575563, 'charg new'),\n",
       " (-11.35148438575563, 'charg new york'),\n",
       " (-11.35148438575563, 'charleston'),\n",
       " (-11.35148438575563, 'chelsea man'),\n",
       " (-11.35148438575563, 'chief new'),\n",
       " (-11.35148438575563, 'chief new york'),\n",
       " (-11.35148438575563, 'china new york'),\n",
       " (-11.35148438575563, 'chuck'),\n",
       " (-11.35148438575563, 'chuck todd'),\n",
       " (-11.35148438575563, 'circuit'),\n",
       " (-11.35148438575563, 'citi new'),\n",
       " (-11.35148438575563, 'citi new york'),\n",
       " (-11.35148438575563, 'climat chang new'),\n",
       " (-11.35148438575563, 'clinch'),\n",
       " (-11.35148438575563, 'clinton new york'),\n",
       " (-11.35148438575563, 'clue'),\n",
       " (-11.35148438575563, 'coal'),\n",
       " (-11.35148438575563, 'coffe'),\n",
       " (-11.35148438575563, 'colleg new'),\n",
       " (-11.35148438575563, 'colleg new york'),\n",
       " (-11.35148438575563, 'collid'),\n",
       " (-11.35148438575563, 'collin'),\n",
       " (-11.35148438575563, 'comedi'),\n",
       " (-11.35148438575563, 'comedi central'),\n",
       " (-11.35148438575563, 'comey fire'),\n",
       " (-11.35148438575563, 'comic'),\n",
       " (-11.35148438575563, 'commut'),\n",
       " (-11.35148438575563, 'compet'),\n",
       " (-11.35148438575563, 'confirm hear'),\n",
       " (-11.35148438575563, 'congress breitbart'),\n",
       " (-11.35148438575563, 'congress new york'),\n",
       " (-11.35148438575563, 'congression'),\n",
       " (-11.35148438575563, 'control new'),\n",
       " (-11.35148438575563, 'control new york'),\n",
       " (-11.35148438575563, 'corner'),\n",
       " (-11.35148438575563, 'counsel'),\n",
       " (-11.35148438575563, 'countri breitbart'),\n",
       " (-11.35148438575563, 'court block'),\n",
       " (-11.35148438575563, 'court new'),\n",
       " (-11.35148438575563, 'court new york'),\n",
       " (-11.35148438575563, 'cpac'),\n",
       " (-11.35148438575563, 'crash new'),\n",
       " (-11.35148438575563, 'crash new york'),\n",
       " (-11.35148438575563, 'credit card'),\n",
       " (-11.35148438575563, 'crime breitbart'),\n",
       " (-11.35148438575563, 'crime new'),\n",
       " (-11.35148438575563, 'crime new york'),\n",
       " (-11.35148438575563, 'crimin alien'),\n",
       " (-11.35148438575563, 'cunningham'),\n",
       " (-11.35148438575563, 'curb'),\n",
       " (-11.35148438575563, 'cyberattack'),\n",
       " (-11.35148438575563, 'daca'),\n",
       " (-11.35148438575563, 'daili trump'),\n",
       " (-11.35148438575563, 'dam'),\n",
       " (-11.35148438575563, 'day breitbart'),\n",
       " (-11.35148438575563, 'day new york'),\n",
       " (-11.35148438575563, 'day one'),\n",
       " (-11.35148438575563, 'dead new'),\n",
       " (-11.35148438575563, 'dead new york'),\n",
       " (-11.35148438575563, 'deal breitbart'),\n",
       " (-11.35148438575563, 'deal new'),\n",
       " (-11.35148438575563, 'deal new york'),\n",
       " (-11.35148438575563, 'death new'),\n",
       " (-11.35148438575563, 'death new york'),\n",
       " (-11.35148438575563, 'debat new'),\n",
       " (-11.35148438575563, 'debat new york'),\n",
       " (-11.35148438575563, 'defi'),\n",
       " (-11.35148438575563, 'delingpol'),\n",
       " (-11.35148438575563, 'dem rep'),\n",
       " (-11.35148438575563, 'dem sen'),\n",
       " (-11.35148438575563, 'democrat breitbart'),\n",
       " (-11.35148438575563, 'democrat new'),\n",
       " (-11.35148438575563, 'democrat new york'),\n",
       " (-11.35148438575563, 'denounc'),\n",
       " (-11.35148438575563, 'despair'),\n",
       " (-11.35148438575563, 'devo'),\n",
       " (-11.35148438575563, 'dh'),\n",
       " (-11.35148438575563, 'die new'),\n",
       " (-11.35148438575563, 'die new york'),\n",
       " (-11.35148438575563, 'diverg'),\n",
       " (-11.35148438575563, 'divorc'),\n",
       " (-11.35148438575563, 'donald trump breitbart'),\n",
       " (-11.35148438575563, 'donald trump campaign'),\n",
       " (-11.35148438575563, 'donald trump inaugur'),\n",
       " (-11.35148438575563, 'dossier'),\n",
       " (-11.35148438575563, 'dylann'),\n",
       " (-11.35148438575563, 'dylann roof'),\n",
       " (-11.35148438575563, 'easter'),\n",
       " (-11.35148438575563, 'echo'),\n",
       " (-11.35148438575563, 'egyptair'),\n",
       " (-11.35148438575563, 'elect breitbart'),\n",
       " (-11.35148438575563, 'elect loss'),\n",
       " (-11.35148438575563, 'elect new'),\n",
       " (-11.35148438575563, 'elect new york')]"
      ]
     },
     "execution_count": 104,
     "metadata": {},
     "output_type": "execute_result"
    }
   ],
   "source": [
    "### Most fake\n",
    "sorted(zip(classifier.coef_[0], feature_names))[:200]"
   ]
  },
  {
   "cell_type": "code",
   "execution_count": null,
   "metadata": {},
   "outputs": [],
   "source": []
  }
 ],
 "metadata": {
  "kernelspec": {
   "display_name": "Python 3",
   "language": "python",
   "name": "python3"
  },
  "language_info": {
   "codemirror_mode": {
    "name": "ipython",
    "version": 3
   },
   "file_extension": ".py",
   "mimetype": "text/x-python",
   "name": "python",
   "nbconvert_exporter": "python",
   "pygments_lexer": "ipython3",
   "version": "3.8.5"
  }
 },
 "nbformat": 4,
 "nbformat_minor": 4
}
